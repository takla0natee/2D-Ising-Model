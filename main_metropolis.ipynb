{
 "cells": [
  {
   "cell_type": "markdown",
   "metadata": {},
   "source": [
    "# Main file \n",
    "This only give you a basic stuff, solving an Ising model at a certain temperature."
   ]
  },
  {
   "cell_type": "code",
   "execution_count": 1,
   "metadata": {},
   "outputs": [],
   "source": [
    "import numpy as np \n",
    "import matplotlib.pyplot as plt"
   ]
  },
  {
   "cell_type": "markdown",
   "metadata": {},
   "source": [
    "## Define parameters"
   ]
  },
  {
   "cell_type": "markdown",
   "metadata": {},
   "source": [
    "To see evolution in each iteration, please change Q to equal 1, and repeat the simulation part manually (There's no animation in this file.)"
   ]
  },
  {
   "cell_type": "code",
   "execution_count": 4,
   "metadata": {},
   "outputs": [],
   "source": [
    "# Simulation parameters\n",
    "N = 200;  #size of lattice, number of nodes = N^2, periodic boundary condition\n",
    "Q = 10000; #number of iteration\n",
    "\n",
    "#Physics parameters\n",
    "J = 1; #Coupling constant\n",
    "kbT = 0.1; #simply boltzmann constant multiply by temp"
   ]
  },
  {
   "cell_type": "markdown",
   "metadata": {},
   "source": [
    "## Initial condition"
   ]
  },
  {
   "cell_type": "markdown",
   "metadata": {},
   "source": [
    "This set an initail spins for our system"
   ]
  },
  {
   "cell_type": "code",
   "execution_count": 7,
   "metadata": {},
   "outputs": [],
   "source": [
    "a = np.ceil(np.random.random((N,N))*2)*2 -3 # random -1 or 1 uniformly, this is array of size N*N"
   ]
  },
  {
   "cell_type": "markdown",
   "metadata": {},
   "source": [
    "## Simulation / iteration part"
   ]
  },
  {
   "cell_type": "code",
   "execution_count": 8,
   "metadata": {},
   "outputs": [],
   "source": [
    "for q in range(Q):\n",
    "    r0 = np.random.randint(0,N,size=(N^2,2)) #Random indices to flip\n",
    "    rn = np.mod(r0-1,N) #shift up or left\n",
    "    rp = np.mod(r0+1,N) #shift down or right\n",
    "    r = np.random.random((N^2,1))\n",
    "    for n in range(0,N^2):\n",
    "        energy_gap = 2*J*(a[rn[n,0],r0[n,1]] + a[rp[n,0],r0[n,1]] + a[r0[n,0],rn[n,1]] + a[r0[n,0],rp[n,1]])* a[r0[n,0],r0[n,1]]\n",
    "        if r[n] < np.exp(-energy_gap/kbT):\n",
    "            a[r0[n,0],r0[n,1]] = -a[r0[n,0],r0[n,1]]"
   ]
  },
  {
   "cell_type": "markdown",
   "metadata": {},
   "source": [
    "## Plotting part"
   ]
  },
  {
   "cell_type": "markdown",
   "metadata": {},
   "source": [
    "This draw a spin landscape of our system"
   ]
  },
  {
   "cell_type": "code",
   "execution_count": 9,
   "metadata": {},
   "outputs": [
    {
     "data": {
      "text/plain": [
       "<matplotlib.collections.QuadMesh at 0x7f80c84fffd0>"
      ]
     },
     "execution_count": 9,
     "metadata": {},
     "output_type": "execute_result"
    },
    {
     "data": {
      "image/png": "[encoded data removed]",
      "text/plain": [
       "<Figure size 432x288 with 1 Axes>"
      ]
     },
     "metadata": {
      "needs_background": "light"
     },
     "output_type": "display_data"
    }
   ],
   "source": [
    "plt.pcolormesh(a)"
   ]
  },
  {
   "cell_type": "code",
   "execution_count": null,
   "metadata": {},
   "outputs": [],
   "source": []
  }
 ],
 "metadata": {
  "interpreter": {
   "hash": "aee8b7b246df8f9039afb4144a1f6fd8d2ca17a180786b69acc140d282b71a49"
  },
  "kernelspec": {
   "display_name": "Python 3.9.4 64-bit",
   "language": "python",
   "name": "python3"
  },
  "language_info": {
   "codemirror_mode": {
    "name": "ipython",
    "version": 3
   },
   "file_extension": ".py",
   "mimetype": "text/x-python",
   "name": "python",
   "nbconvert_exporter": "python",
   "pygments_lexer": "ipython3",
   "version": "3.9.4"
  },
  "orig_nbformat": 4
 },
 "nbformat": 4,
 "nbformat_minor": 2
}
